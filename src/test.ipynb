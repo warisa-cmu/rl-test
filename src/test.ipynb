{
 "cells": [
  {
   "cell_type": "code",
   "execution_count": 92,
   "id": "57d8c6db",
   "metadata": {},
   "outputs": [],
   "source": [
    "import gymnasium as gym\n",
    "from gymnasium import spaces\n",
    "import numpy as np\n",
    "\n",
    "class FunctionMinimizationEnv(gym.Env):\n",
    "    def __init__(self):\n",
    "        super().__init__()\n",
    "        self.param_dim = 3  # Example: 3 parameters\n",
    "        self.action_space = spaces.Box(low=-0.01, high=0.01, shape=(self.param_dim,), dtype=np.float32)\n",
    "        self.observation_space = spaces.Box(low=-np.inf, high=np.inf, shape=(self.param_dim,), dtype=np.float32)\n",
    "        self.state = None\n",
    "\n",
    "    def reset(self, seed=None, options=None):\n",
    "        super().reset(seed=seed)\n",
    "        self.state = np.random.uniform(-1, 1, size=(self.param_dim,))\n",
    "        # Gymnasium reset returns (obs, info)\n",
    "        return self.state, {}\n",
    "\n",
    "    def step(self, action):\n",
    "        self.state = self.state + action\n",
    "        value = self.target_function(self.state)\n",
    "        reward = -value  # Negative because we want to minimize\n",
    "        terminated = value < -5 or value > 5  # Set your own termination condition\n",
    "        truncated = False   # Set your own truncation condition\n",
    "        info = {}\n",
    "        # Gymnasium step returns (obs, reward, terminated, truncated, info)\n",
    "        return self.state, reward, terminated, truncated, info\n",
    "\n",
    "    def target_function(self, x):\n",
    "        return np.sum(x**2)  # Example: minimize sum of squares\n"
   ]
  },
  {
   "cell_type": "code",
   "execution_count": 93,
   "id": "ecc40a52",
   "metadata": {},
   "outputs": [
    {
     "name": "stdout",
     "output_type": "stream",
     "text": [
      "Using cpu device\n",
      "Wrapping the env with a `Monitor` wrapper\n",
      "Wrapping the env in a DummyVecEnv.\n"
     ]
    }
   ],
   "source": [
    "from stable_baselines3 import SAC\n",
    "from gymnasium.wrappers import TimeLimit\n",
    "\n",
    "env = FunctionMinimizationEnv()\n",
    "env = TimeLimit(env, max_episode_steps=5000)\n",
    "model = SAC(\"MlpPolicy\", env, verbose=1)"
   ]
  },
  {
   "cell_type": "code",
   "execution_count": 94,
   "id": "66a572fb",
   "metadata": {},
   "outputs": [
    {
     "data": {
      "text/plain": [
       "<stable_baselines3.sac.sac.SAC at 0x14b49c7e480>"
      ]
     },
     "execution_count": 94,
     "metadata": {},
     "output_type": "execute_result"
    }
   ],
   "source": [
    "model.learn(total_timesteps=1000)"
   ]
  },
  {
   "cell_type": "code",
   "execution_count": 95,
   "id": "03e62962",
   "metadata": {},
   "outputs": [],
   "source": [
    "obs, info = env.reset()\n",
    "terminated = False\n",
    "truncated = False\n",
    "\n",
    "while not (terminated or truncated):\n",
    "    action, _ = model.predict(obs, deterministic=True)\n",
    "    obs, reward, terminated, truncated, info = env.step(action)\n",
    "# obs now contains the parameter vector found by the agent"
   ]
  },
  {
   "cell_type": "code",
   "execution_count": 96,
   "id": "250be75b",
   "metadata": {},
   "outputs": [
    {
     "name": "stdout",
     "output_type": "stream",
     "text": [
      "[-0.50335988 -0.15649646  0.93774354] -1.1572252491171926 False True {}\n"
     ]
    }
   ],
   "source": [
    "print(obs, reward, terminated, truncated, info)"
   ]
  },
  {
   "cell_type": "code",
   "execution_count": null,
   "id": "2ac0cb34",
   "metadata": {},
   "outputs": [],
   "source": []
  }
 ],
 "metadata": {
  "kernelspec": {
   "display_name": ".venv",
   "language": "python",
   "name": "python3"
  },
  "language_info": {
   "codemirror_mode": {
    "name": "ipython",
    "version": 3
   },
   "file_extension": ".py",
   "mimetype": "text/x-python",
   "name": "python",
   "nbconvert_exporter": "python",
   "pygments_lexer": "ipython3",
   "version": "3.12.10"
  }
 },
 "nbformat": 4,
 "nbformat_minor": 5
}
